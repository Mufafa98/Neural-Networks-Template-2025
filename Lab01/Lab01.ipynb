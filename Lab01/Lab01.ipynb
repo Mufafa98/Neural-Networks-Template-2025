{
 "cells": [
  {
   "cell_type": "markdown",
   "metadata": {
    "colab_type": "text",
    "id": "view-in-github"
   },
   "source": [
    "<a href=\"https://colab.research.google.com/github/Tensor-Reloaded/Neural-Networks-Template-2025/blob/main/Lab01/Lab01.ipynb\" target=\"_parent\"><img src=\"https://colab.research.google.com/assets/colab-badge.svg\" alt=\"Open In Colab\"/></a>"
   ]
  },
  {
   "cell_type": "markdown",
   "metadata": {
    "id": "_a3mzLZrN76-"
   },
   "source": [
    "# Python fundamentals"
   ]
  },
  {
   "cell_type": "markdown",
   "metadata": {
    "id": "gXqYekvjN76-"
   },
   "source": [
    "### Data types"
   ]
  },
  {
   "cell_type": "code",
   "execution_count": null,
   "metadata": {
    "colab": {
     "base_uri": "https://localhost:8080/"
    },
    "execution": {
     "iopub.execute_input": "2024-10-02T11:44:03.951372Z",
     "iopub.status.busy": "2024-10-02T11:44:03.950493Z",
     "iopub.status.idle": "2024-10-02T11:44:03.983787Z",
     "shell.execute_reply": "2024-10-02T11:44:03.982322Z",
     "shell.execute_reply.started": "2024-10-02T11:44:03.951322Z"
    },
    "id": "3MhBylJEN76_",
    "outputId": "c419c283-d10e-411e-eebe-ba4135a6efaf",
    "trusted": true
   },
   "outputs": [
    {
     "ename": "",
     "evalue": "",
     "output_type": "error",
     "traceback": [
      "\u001b[1;31mRunning cells with 'Python 3.12.6' requires the ipykernel package.\n",
      "\u001b[1;31mInstall 'ipykernel' into the Python environment. \n",
      "\u001b[1;31mCommand: '/usr/bin/python -m pip install ipykernel -U --user --force-reinstall'"
     ]
    }
   ],
   "source": [
    "a = 5\n",
    "print(type(a))"
   ]
  },
  {
   "cell_type": "code",
   "execution_count": 2,
   "metadata": {
    "colab": {
     "base_uri": "https://localhost:8080/"
    },
    "execution": {
     "iopub.execute_input": "2024-10-02T11:44:36.10948Z",
     "iopub.status.busy": "2024-10-02T11:44:36.109006Z",
     "iopub.status.idle": "2024-10-02T11:44:36.117591Z",
     "shell.execute_reply": "2024-10-02T11:44:36.116327Z",
     "shell.execute_reply.started": "2024-10-02T11:44:36.109437Z"
    },
    "id": "wodi_gU9N76_",
    "outputId": "126bca12-4c64-43dc-9a25-fbaca73d0f3c",
    "trusted": true
   },
   "outputs": [
    {
     "name": "stdout",
     "output_type": "stream",
     "text": [
      "<class 'float'>\n"
     ]
    }
   ],
   "source": [
    "a = 5.0\n",
    "print(type(a))"
   ]
  },
  {
   "cell_type": "code",
   "execution_count": 3,
   "metadata": {
    "colab": {
     "base_uri": "https://localhost:8080/"
    },
    "execution": {
     "iopub.execute_input": "2024-10-02T11:45:05.271206Z",
     "iopub.status.busy": "2024-10-02T11:45:05.270755Z",
     "iopub.status.idle": "2024-10-02T11:45:05.279648Z",
     "shell.execute_reply": "2024-10-02T11:45:05.278196Z",
     "shell.execute_reply.started": "2024-10-02T11:45:05.27116Z"
    },
    "id": "tHznwFqRN77A",
    "outputId": "0756c44d-d0bb-4633-a763-502f8dba2b56",
    "trusted": true
   },
   "outputs": [
    {
     "name": "stdout",
     "output_type": "stream",
     "text": [
      "<class 'str'>\n"
     ]
    }
   ],
   "source": [
    "a = '5'\n",
    "print(type(a))"
   ]
  },
  {
   "cell_type": "code",
   "execution_count": 4,
   "metadata": {
    "colab": {
     "base_uri": "https://localhost:8080/"
    },
    "execution": {
     "iopub.execute_input": "2024-10-02T11:45:06.796862Z",
     "iopub.status.busy": "2024-10-02T11:45:06.795423Z",
     "iopub.status.idle": "2024-10-02T11:45:06.804179Z",
     "shell.execute_reply": "2024-10-02T11:45:06.802988Z",
     "shell.execute_reply.started": "2024-10-02T11:45:06.796802Z"
    },
    "id": "djbJqdr6N77A",
    "outputId": "dbbc12a5-3d3e-43c0-fd1b-8d7d633fcd16",
    "trusted": true
   },
   "outputs": [
    {
     "name": "stdout",
     "output_type": "stream",
     "text": [
      "<class 'bool'>\n"
     ]
    }
   ],
   "source": [
    "a = True\n",
    "print(type(a))"
   ]
  },
  {
   "cell_type": "markdown",
   "metadata": {
    "id": "QGqwl2wbN77A"
   },
   "source": [
    "## Containers"
   ]
  },
  {
   "cell_type": "code",
   "execution_count": 4,
   "metadata": {
    "colab": {
     "base_uri": "https://localhost:8080/"
    },
    "execution": {
     "iopub.execute_input": "2024-10-02T11:49:29.586322Z",
     "iopub.status.busy": "2024-10-02T11:49:29.58574Z",
     "iopub.status.idle": "2024-10-02T11:49:29.594511Z",
     "shell.execute_reply": "2024-10-02T11:49:29.592585Z",
     "shell.execute_reply.started": "2024-10-02T11:49:29.586194Z"
    },
    "id": "lZIuCa6RN77A",
    "outputId": "04899e4e-9d3a-43d7-bcfd-310e094f5043",
    "trusted": true
   },
   "outputs": [
    {
     "name": "stdout",
     "output_type": "stream",
     "text": [
      "[1, 2, 2, 4.0, '5']\n",
      "<class 'list'>\n"
     ]
    }
   ],
   "source": [
    "a_list = [1, 2, 2, 4.0, '5']\n",
    "print(a_list)\n",
    "print(type(a_list))"
   ]
  },
  {
   "cell_type": "code",
   "execution_count": 6,
   "metadata": {
    "colab": {
     "base_uri": "https://localhost:8080/"
    },
    "execution": {
     "iopub.execute_input": "2024-10-02T11:49:31.00734Z",
     "iopub.status.busy": "2024-10-02T11:49:31.006854Z",
     "iopub.status.idle": "2024-10-02T11:49:31.015648Z",
     "shell.execute_reply": "2024-10-02T11:49:31.014282Z",
     "shell.execute_reply.started": "2024-10-02T11:49:31.007296Z"
    },
    "id": "a0KAR2ExN77B",
    "outputId": "e0499764-c938-4094-c78e-5f230bf96fd5",
    "trusted": true
   },
   "outputs": [
    {
     "name": "stdout",
     "output_type": "stream",
     "text": [
      "{1, 2, 3.0, '5'}\n",
      "<class 'set'>\n",
      "{1, 2, 3, 4}\n"
     ]
    }
   ],
   "source": [
    "a_set = set(a_list)\n",
    "print(a_set)\n",
    "print(type(a_set))\n",
    "a_set = {1, 2, 3, 4}\n",
    "print(a_set)"
   ]
  },
  {
   "cell_type": "code",
   "execution_count": 7,
   "metadata": {
    "_cell_guid": "b1076dfc-b9ad-4769-8c92-a6c4dae69d19",
    "_uuid": "8f2839f25d086af736a60e9eeb907d3b93b6e0e5",
    "colab": {
     "base_uri": "https://localhost:8080/"
    },
    "execution": {
     "iopub.execute_input": "2024-10-02T11:50:25.928643Z",
     "iopub.status.busy": "2024-10-02T11:50:25.927682Z",
     "iopub.status.idle": "2024-10-02T11:50:25.936764Z",
     "shell.execute_reply": "2024-10-02T11:50:25.934781Z",
     "shell.execute_reply.started": "2024-10-02T11:50:25.928589Z"
    },
    "id": "Dmtitx5PN77B",
    "outputId": "258ea10d-b517-4a1b-c310-c205e1d2bd49",
    "trusted": true
   },
   "outputs": [
    {
     "name": "stdout",
     "output_type": "stream",
     "text": [
      "Keys:\t [1, 'doi', 3.0]\n",
      "Values:\t ['unu', 2, {1, 2, 3, 4}]\n",
      "{1: 'unu', 'doi': 2, 3.0: {1, 2, 3, 4}}\n",
      "<class 'dict'>\n"
     ]
    }
   ],
   "source": [
    "a_dict = {\n",
    "    1: 'unu',\n",
    "    'doi': 2,\n",
    "    3.0: a_set\n",
    "}\n",
    "print(\"Keys:\\t\", list(a_dict.keys()))\n",
    "print(\"Values:\\t\", list(a_dict.values()))\n",
    "print(a_dict)\n",
    "print(type(a_dict))"
   ]
  },
  {
   "cell_type": "markdown",
   "metadata": {
    "id": "EE6My2IjN77B"
   },
   "source": [
    "## Functions"
   ]
  },
  {
   "cell_type": "code",
   "execution_count": 8,
   "metadata": {
    "colab": {
     "base_uri": "https://localhost:8080/"
    },
    "execution": {
     "iopub.execute_input": "2024-10-02T11:51:31.894016Z",
     "iopub.status.busy": "2024-10-02T11:51:31.893551Z",
     "iopub.status.idle": "2024-10-02T11:51:31.904305Z",
     "shell.execute_reply": "2024-10-02T11:51:31.902815Z",
     "shell.execute_reply.started": "2024-10-02T11:51:31.893971Z"
    },
    "id": "nX8fadHKN77B",
    "outputId": "056ddaff-0d7b-4032-dd6d-de1da53b3b26",
    "trusted": true
   },
   "outputs": [
    {
     "data": {
      "text/plain": [
       "11"
      ]
     },
     "execution_count": 8,
     "metadata": {},
     "output_type": "execute_result"
    }
   ],
   "source": [
    "def add_two_values(a, b):\n",
    "    return a + b\n",
    "\n",
    "add_two_values(5, 6)"
   ]
  },
  {
   "cell_type": "code",
   "execution_count": 9,
   "metadata": {
    "colab": {
     "base_uri": "https://localhost:8080/"
    },
    "execution": {
     "iopub.execute_input": "2024-10-02T11:52:16.545022Z",
     "iopub.status.busy": "2024-10-02T11:52:16.544522Z",
     "iopub.status.idle": "2024-10-02T11:52:16.554614Z",
     "shell.execute_reply": "2024-10-02T11:52:16.553091Z",
     "shell.execute_reply.started": "2024-10-02T11:52:16.544976Z"
    },
    "id": "ZsQjTrEAN77B",
    "outputId": "d6865f62-7636-4878-996a-95305ee81623",
    "trusted": true
   },
   "outputs": [
    {
     "data": {
      "text/plain": [
       "20.0"
      ]
     },
     "execution_count": 9,
     "metadata": {},
     "output_type": "execute_result"
    }
   ],
   "source": [
    "def multiply(a: float, b: float) -> float:\n",
    "    return a * b\n",
    "\n",
    "multiply(4.0, 5.0)"
   ]
  },
  {
   "cell_type": "code",
   "execution_count": 10,
   "metadata": {
    "colab": {
     "base_uri": "https://localhost:8080/",
     "height": 35
    },
    "execution": {
     "iopub.execute_input": "2024-10-02T11:52:50.76403Z",
     "iopub.status.busy": "2024-10-02T11:52:50.763543Z",
     "iopub.status.idle": "2024-10-02T11:52:50.773893Z",
     "shell.execute_reply": "2024-10-02T11:52:50.772157Z",
     "shell.execute_reply.started": "2024-10-02T11:52:50.763985Z"
    },
    "id": "7Nw6RLGEN77B",
    "outputId": "c3056dc5-d844-447a-e7f3-5bc2bd505b7d",
    "trusted": true
   },
   "outputs": [
    {
     "data": {
      "application/vnd.google.colaboratory.intrinsic+json": {
       "type": "string"
      },
      "text/plain": [
       "'ABAB'"
      ]
     },
     "execution_count": 10,
     "metadata": {},
     "output_type": "execute_result"
    }
   ],
   "source": [
    "multiply(\"AB\", 2)"
   ]
  },
  {
   "cell_type": "markdown",
   "metadata": {
    "id": "0s-6p0HkN77B"
   },
   "source": [
    "# Numpy"
   ]
  },
  {
   "cell_type": "markdown",
   "metadata": {
    "id": "CCnrJDOSN77C"
   },
   "source": [
    "Check: https://numpy.org/doc/stable/user/absolute_beginners.html"
   ]
  },
  {
   "cell_type": "markdown",
   "metadata": {
    "id": "GFKeqvW9N77C"
   },
   "source": [
    "### Installing 3rd party libraries"
   ]
  },
  {
   "cell_type": "code",
   "execution_count": 5,
   "metadata": {
    "colab": {
     "base_uri": "https://localhost:8080/"
    },
    "execution": {
     "iopub.execute_input": "2024-10-02T12:03:47.809536Z",
     "iopub.status.busy": "2024-10-02T12:03:47.809067Z",
     "iopub.status.idle": "2024-10-02T12:04:02.676853Z",
     "shell.execute_reply": "2024-10-02T12:04:02.675064Z",
     "shell.execute_reply.started": "2024-10-02T12:03:47.809488Z"
    },
    "id": "Do-AheAqN77C",
    "outputId": "8031f61d-3ec7-4d08-b4a8-62e52760ebe5",
    "trusted": true
   },
   "outputs": [
    {
     "name": "stdout",
     "output_type": "stream",
     "text": [
      "Requirement already satisfied: numpy in ./.venv/lib/python3.13/site-packages (2.3.3)\n",
      "Note: you may need to restart the kernel to use updated packages.\n"
     ]
    }
   ],
   "source": [
    "%pip install numpy"
   ]
  },
  {
   "cell_type": "code",
   "execution_count": 12,
   "metadata": {
    "colab": {
     "base_uri": "https://localhost:8080/"
    },
    "execution": {
     "iopub.execute_input": "2024-10-02T12:04:04.699355Z",
     "iopub.status.busy": "2024-10-02T12:04:04.698732Z",
     "iopub.status.idle": "2024-10-02T12:04:19.723462Z",
     "shell.execute_reply": "2024-10-02T12:04:19.721813Z",
     "shell.execute_reply.started": "2024-10-02T12:04:04.699297Z"
    },
    "id": "4p6EbtLjN77C",
    "outputId": "cb194a4d-7254-4ea1-e445-f9ea2936b94c",
    "trusted": true
   },
   "outputs": [
    {
     "name": "stdout",
     "output_type": "stream",
     "text": [
      "Collecting timed-decorator\n",
      "  Downloading timed_decorator-1.5.2-py3-none-any.whl.metadata (18 kB)\n",
      "Downloading timed_decorator-1.5.2-py3-none-any.whl (12 kB)\n",
      "Installing collected packages: timed-decorator\n",
      "Successfully installed timed-decorator-1.5.2\n"
     ]
    }
   ],
   "source": [
    "%pip install timed-decorator"
   ]
  },
  {
   "cell_type": "code",
   "execution_count": 6,
   "metadata": {
    "execution": {
     "iopub.execute_input": "2024-10-02T12:19:17.82417Z",
     "iopub.status.busy": "2024-10-02T12:19:17.823585Z",
     "iopub.status.idle": "2024-10-02T12:19:17.830611Z",
     "shell.execute_reply": "2024-10-02T12:19:17.829095Z",
     "shell.execute_reply.started": "2024-10-02T12:19:17.824114Z"
    },
    "id": "1fJntYrkN77C",
    "trusted": true
   },
   "outputs": [],
   "source": [
    "import numpy as np\n",
    "from math import sqrt\n",
    "from timed_decorator.simple_timed import timed"
   ]
  },
  {
   "cell_type": "code",
   "execution_count": 11,
   "metadata": {
    "colab": {
     "base_uri": "https://localhost:8080/"
    },
    "execution": {
     "iopub.execute_input": "2024-10-02T12:08:13.212593Z",
     "iopub.status.busy": "2024-10-02T12:08:13.211484Z",
     "iopub.status.idle": "2024-10-02T12:08:13.223296Z",
     "shell.execute_reply": "2024-10-02T12:08:13.221925Z",
     "shell.execute_reply.started": "2024-10-02T12:08:13.212525Z"
    },
    "id": "6tJVb2RVN77C",
    "outputId": "e8d76a18-5a5a-4e5b-f870-c3ddf83f8212",
    "trusted": true
   },
   "outputs": [
    {
     "data": {
      "text/plain": [
       "array([ 1.31959832, -3.28108552,  3.95474857, -2.54724475, -3.03760966,\n",
       "       -0.81272523,  0.18947427,  2.83540592,  4.45139426,  1.49839905,\n",
       "        1.35232865, -4.72354575, -1.58645112,  3.23625384, -1.33332183,\n",
       "        2.4791122 , -2.88279405,  0.73842133, -2.59650477,  2.03042572,\n",
       "        0.81950189,  4.84927605,  4.77900228, -1.9856014 ,  0.79927518,\n",
       "        1.70532992,  0.88714188,  5.26292673,  5.01258226, -4.83784941,\n",
       "       -2.68703327,  3.03869336, -3.0548129 , -4.86899209, -1.40724236,\n",
       "        2.40833129,  3.20920571,  4.08134772,  3.08195056,  2.03898907,\n",
       "       -3.67815039,  3.63453305,  2.27328615, -1.42691841,  0.47137745,\n",
       "       -1.11906134, -4.10927502,  5.2128672 ,  4.40876392,  3.62970815])"
      ]
     },
     "execution_count": 11,
     "metadata": {},
     "output_type": "execute_result"
    }
   ],
   "source": [
    "x = np.random.uniform(low=-5.5, high=5.5, size=(50,))\n",
    "x"
   ]
  },
  {
   "cell_type": "code",
   "execution_count": 15,
   "metadata": {
    "colab": {
     "base_uri": "https://localhost:8080/"
    },
    "execution": {
     "iopub.execute_input": "2024-10-02T12:08:20.885553Z",
     "iopub.status.busy": "2024-10-02T12:08:20.88504Z",
     "iopub.status.idle": "2024-10-02T12:08:20.895173Z",
     "shell.execute_reply": "2024-10-02T12:08:20.894109Z",
     "shell.execute_reply.started": "2024-10-02T12:08:20.885509Z"
    },
    "id": "A1lC4YMON77C",
    "outputId": "2d6be9f9-02c7-41ce-b85e-bbe2316bd3b9",
    "trusted": true
   },
   "outputs": [
    {
     "data": {
      "text/plain": [
       "array([False,  True, False,  True,  True,  True, False,  True, False,\n",
       "       False, False,  True, False, False,  True,  True, False, False,\n",
       "       False, False,  True,  True,  True, False,  True, False, False,\n",
       "        True, False,  True, False, False, False,  True,  True, False,\n",
       "        True,  True,  True,  True, False, False, False, False, False,\n",
       "       False,  True, False,  True,  True])"
      ]
     },
     "execution_count": 15,
     "metadata": {},
     "output_type": "execute_result"
    }
   ],
   "source": [
    "x > 0"
   ]
  },
  {
   "cell_type": "code",
   "execution_count": 16,
   "metadata": {
    "colab": {
     "base_uri": "https://localhost:8080/"
    },
    "execution": {
     "iopub.execute_input": "2024-10-02T12:08:31.800889Z",
     "iopub.status.busy": "2024-10-02T12:08:31.800418Z",
     "iopub.status.idle": "2024-10-02T12:08:31.81006Z",
     "shell.execute_reply": "2024-10-02T12:08:31.80875Z",
     "shell.execute_reply.started": "2024-10-02T12:08:31.800844Z"
    },
    "id": "cSi7wI_jN77C",
    "outputId": "ef7f51d5-3df0-4f6d-e51f-51cca3c2964e",
    "trusted": true
   },
   "outputs": [
    {
     "data": {
      "text/plain": [
       "array([3.55174233, 0.63476826, 1.32473059, 3.25703386, 0.56524522,\n",
       "       4.98782961, 2.05677049, 0.07322086, 4.25927931, 3.96061448,\n",
       "       1.87208983, 5.1911797 , 2.74462889, 1.40324877, 1.47291849,\n",
       "       4.53722535, 0.61056549, 0.49667307, 1.00205239, 0.90775139,\n",
       "       2.1425354 , 3.00139925, 0.08148065])"
      ]
     },
     "execution_count": 16,
     "metadata": {},
     "output_type": "execute_result"
    }
   ],
   "source": [
    "x[x > 0]"
   ]
  },
  {
   "cell_type": "code",
   "execution_count": 15,
   "metadata": {
    "colab": {
     "base_uri": "https://localhost:8080/"
    },
    "execution": {
     "iopub.execute_input": "2024-10-02T12:08:47.364834Z",
     "iopub.status.busy": "2024-10-02T12:08:47.36438Z",
     "iopub.status.idle": "2024-10-02T12:08:47.374292Z",
     "shell.execute_reply": "2024-10-02T12:08:47.372842Z",
     "shell.execute_reply.started": "2024-10-02T12:08:47.364789Z"
    },
    "id": "9WcCYeb4N77C",
    "outputId": "e7788b5f-f4f7-445c-e343-344331d6bc8c",
    "trusted": true
   },
   "outputs": [
    {
     "data": {
      "text/plain": [
       "[np.float64(1.3195983162411),\n",
       " np.float64(-3.2810855249013247),\n",
       " np.float64(3.9547485684510537),\n",
       " np.float64(-2.5472447491542494),\n",
       " np.float64(-3.0376096613338834),\n",
       " np.float64(-0.812725228148258),\n",
       " np.float64(0.18947427229915004),\n",
       " np.float64(2.8354059202992197),\n",
       " np.float64(4.451394259489213),\n",
       " np.float64(1.4983990472880828),\n",
       " np.float64(1.3523286458212818),\n",
       " np.float64(-4.72354575194098),\n",
       " np.float64(-1.5864511213623338),\n",
       " np.float64(3.2362538410893507),\n",
       " np.float64(-1.3333218275608925),\n",
       " np.float64(2.4791122015163474),\n",
       " np.float64(-2.882794054980187),\n",
       " np.float64(0.7384213318640107),\n",
       " np.float64(-2.5965047664713077),\n",
       " np.float64(2.03042571772413),\n",
       " np.float64(0.8195018867353632),\n",
       " np.float64(4.849276046401572),\n",
       " np.float64(4.779002281167921),\n",
       " np.float64(-1.9856013956225294),\n",
       " np.float64(0.7992751763200436),\n",
       " np.float64(1.7053299190166893),\n",
       " np.float64(0.8871418798500894),\n",
       " np.float64(5.26292673360663),\n",
       " np.float64(5.012582260547129),\n",
       " np.float64(-4.837849406937234),\n",
       " np.float64(-2.687033273509411),\n",
       " np.float64(3.038693360309276),\n",
       " np.float64(-3.054812902386222),\n",
       " np.float64(-4.868992094178133),\n",
       " np.float64(-1.407242363374655),\n",
       " np.float64(2.4083312913480768),\n",
       " np.float64(3.209205706952247),\n",
       " np.float64(4.081347720851774),\n",
       " np.float64(3.081950555378736),\n",
       " np.float64(2.0389890725525426),\n",
       " np.float64(-3.6781503947144016),\n",
       " np.float64(3.634533052015783),\n",
       " np.float64(2.273286149901475),\n",
       " np.float64(-1.4269184111638298),\n",
       " np.float64(0.4713774452730579),\n",
       " np.float64(-1.1190613410240555),\n",
       " np.float64(-4.1092750183887565),\n",
       " np.float64(5.212867200061625),\n",
       " np.float64(4.408763923879635),\n",
       " np.float64(3.629708150844314)]"
      ]
     },
     "execution_count": 15,
     "metadata": {},
     "output_type": "execute_result"
    }
   ],
   "source": [
    "list(x)"
   ]
  },
  {
   "cell_type": "markdown",
   "metadata": {
    "id": "rLM-vfVDN77C"
   },
   "source": [
    "## Comparing numpy arrays to python lists"
   ]
  },
  {
   "cell_type": "code",
   "execution_count": 18,
   "metadata": {
    "colab": {
     "base_uri": "https://localhost:8080/"
    },
    "execution": {
     "iopub.execute_input": "2024-10-02T12:23:10.974691Z",
     "iopub.status.busy": "2024-10-02T12:23:10.974197Z",
     "iopub.status.idle": "2024-10-02T12:23:11.440227Z",
     "shell.execute_reply": "2024-10-02T12:23:11.43898Z",
     "shell.execute_reply.started": "2024-10-02T12:23:10.974645Z"
    },
    "id": "rQIw6SrzN77C",
    "outputId": "177255e1-765f-4e9b-d7bd-8dde1ad96e7f",
    "trusted": true
   },
   "outputs": [
    {
     "name": "stdout",
     "output_type": "stream",
     "text": [
      "normalize_np(ndarray(50000,)) -> total time: 0.002838324s\n",
      "normalize_py(list(float64)[50000]) -> total time: 0.027839752s\n"
     ]
    }
   ],
   "source": [
    "@timed(show_args=True, use_seconds=True)\n",
    "def normalize_np(x: np.ndarray) -> np.ndarray:\n",
    "    mean = np.mean(x)\n",
    "    std = np.std(x)\n",
    "    return (x - mean) / std\n",
    "\n",
    "@timed(show_args=True, use_seconds=True)\n",
    "def normalize_py(x: list) -> list:\n",
    "    mean = sum(x) / len(x)\n",
    "    var = sum([(i - mean) ** 2 for i in x]) / len(x)\n",
    "    std = sqrt(var)\n",
    "    return [(i - mean) / std for i in x]\n",
    "\n",
    "x = np.random.uniform(low=-5.5, high=5.5, size=(50000,)).astype(np.float64)\n",
    "y = list(x)\n",
    "normalized_x = normalize_np(x)\n",
    "normalized_y = normalize_py(y)\n",
    "assert np.allclose(normalized_x, normalized_y)"
   ]
  },
  {
   "cell_type": "markdown",
   "metadata": {
    "id": "SsAyhEIFN77C"
   },
   "source": [
    "#### Python is slower than numpy in general"
   ]
  },
  {
   "cell_type": "code",
   "execution_count": 19,
   "metadata": {
    "colab": {
     "base_uri": "https://localhost:8080/"
    },
    "execution": {
     "iopub.execute_input": "2024-10-02T12:25:52.182556Z",
     "iopub.status.busy": "2024-10-02T12:25:52.182079Z",
     "iopub.status.idle": "2024-10-02T12:25:53.975332Z",
     "shell.execute_reply": "2024-10-02T12:25:53.974039Z",
     "shell.execute_reply.started": "2024-10-02T12:25:52.182507Z"
    },
    "id": "lnHnoOpIN77C",
    "outputId": "e547c993-2cde-460a-d162-cb3aa0e34c49",
    "trusted": true
   },
   "outputs": [
    {
     "name": "stdout",
     "output_type": "stream",
     "text": [
      "32.9 µs ± 2.82 µs per loop (mean ± std. dev. of 7 runs, 10000 loops each)\n"
     ]
    }
   ],
   "source": [
    "%%timeit\n",
    "\n",
    "np.min(x)"
   ]
  },
  {
   "cell_type": "code",
   "execution_count": 20,
   "metadata": {
    "colab": {
     "base_uri": "https://localhost:8080/"
    },
    "execution": {
     "iopub.execute_input": "2024-10-02T12:25:57.128432Z",
     "iopub.status.busy": "2024-10-02T12:25:57.127966Z",
     "iopub.status.idle": "2024-10-02T12:25:59.452513Z",
     "shell.execute_reply": "2024-10-02T12:25:59.451406Z",
     "shell.execute_reply.started": "2024-10-02T12:25:57.128388Z"
    },
    "id": "SX9aZKnFN77C",
    "outputId": "bef37356-5bfe-46f2-f5df-bc1097495b70",
    "trusted": true
   },
   "outputs": [
    {
     "name": "stdout",
     "output_type": "stream",
     "text": [
      "2.73 ms ± 416 µs per loop (mean ± std. dev. of 7 runs, 100 loops each)\n"
     ]
    }
   ],
   "source": [
    "%%timeit\n",
    "\n",
    "min(y)"
   ]
  },
  {
   "cell_type": "code",
   "execution_count": 21,
   "metadata": {
    "execution": {
     "iopub.execute_input": "2024-10-02T12:26:42.992272Z",
     "iopub.status.busy": "2024-10-02T12:26:42.991777Z",
     "iopub.status.idle": "2024-10-02T12:26:42.998492Z",
     "shell.execute_reply": "2024-10-02T12:26:42.997284Z",
     "shell.execute_reply.started": "2024-10-02T12:26:42.992226Z"
    },
    "id": "ionViVvwN77C",
    "trusted": true
   },
   "outputs": [],
   "source": [
    "a = np.random.uniform(low=-5.5, high=5.5, size=(50,)).astype(np.float64)\n",
    "b = list(a)\n"
   ]
  },
  {
   "cell_type": "code",
   "execution_count": 22,
   "metadata": {
    "colab": {
     "base_uri": "https://localhost:8080/"
    },
    "execution": {
     "iopub.execute_input": "2024-10-02T12:26:43.457362Z",
     "iopub.status.busy": "2024-10-02T12:26:43.456859Z",
     "iopub.status.idle": "2024-10-02T12:26:48.16646Z",
     "shell.execute_reply": "2024-10-02T12:26:48.165185Z",
     "shell.execute_reply.started": "2024-10-02T12:26:43.457317Z"
    },
    "id": "d0-CmmEnN77C",
    "outputId": "f2317137-6a65-4627-b837-b47c5256fcdd",
    "trusted": true
   },
   "outputs": [
    {
     "name": "stdout",
     "output_type": "stream",
     "text": [
      "5.44 µs ± 1.64 µs per loop (mean ± std. dev. of 7 runs, 100000 loops each)\n"
     ]
    }
   ],
   "source": [
    "%%timeit\n",
    "\n",
    "np.min(a)"
   ]
  },
  {
   "cell_type": "code",
   "execution_count": 23,
   "metadata": {
    "colab": {
     "base_uri": "https://localhost:8080/"
    },
    "execution": {
     "iopub.execute_input": "2024-10-02T12:26:48.168601Z",
     "iopub.status.busy": "2024-10-02T12:26:48.168224Z",
     "iopub.status.idle": "2024-10-02T12:26:50.625046Z",
     "shell.execute_reply": "2024-10-02T12:26:50.62365Z",
     "shell.execute_reply.started": "2024-10-02T12:26:48.168545Z"
    },
    "id": "qwAy0mmKN77C",
    "outputId": "2ea05bbc-c747-45a8-d779-554abed80f66",
    "trusted": true
   },
   "outputs": [
    {
     "name": "stdout",
     "output_type": "stream",
     "text": [
      "1.66 µs ± 470 ns per loop (mean ± std. dev. of 7 runs, 1000000 loops each)\n"
     ]
    }
   ],
   "source": [
    "%%timeit\n",
    "\n",
    "min(b)"
   ]
  },
  {
   "cell_type": "markdown",
   "metadata": {
    "id": "blcMfOKaN77D"
   },
   "source": [
    "## Inplace operations\n",
    "Use them when you can safely modify the input"
   ]
  },
  {
   "cell_type": "code",
   "execution_count": 24,
   "metadata": {
    "execution": {
     "iopub.execute_input": "2024-10-02T12:31:42.026297Z",
     "iopub.status.busy": "2024-10-02T12:31:42.025848Z",
     "iopub.status.idle": "2024-10-02T12:31:42.032887Z",
     "shell.execute_reply": "2024-10-02T12:31:42.031665Z",
     "shell.execute_reply.started": "2024-10-02T12:31:42.026254Z"
    },
    "id": "_HxkpvD7N77D",
    "trusted": true
   },
   "outputs": [],
   "source": [
    "@timed(show_args=True, use_seconds=True)\n",
    "def normalize_np_(x: np.ndarray) -> np.ndarray:\n",
    "    mean = np.mean(x)\n",
    "    std = np.std(x)\n",
    "    x -= mean\n",
    "    x /= std\n",
    "    return x"
   ]
  },
  {
   "cell_type": "code",
   "execution_count": 28,
   "metadata": {
    "colab": {
     "base_uri": "https://localhost:8080/"
    },
    "execution": {
     "iopub.execute_input": "2024-10-02T12:31:42.184088Z",
     "iopub.status.busy": "2024-10-02T12:31:42.183658Z",
     "iopub.status.idle": "2024-10-02T12:31:42.643647Z",
     "shell.execute_reply": "2024-10-02T12:31:42.642302Z",
     "shell.execute_reply.started": "2024-10-02T12:31:42.184046Z"
    },
    "id": "fmN8W0qGN77D",
    "outputId": "fad7ea35-d4bb-4f1f-86a7-0bd95adcd1dc",
    "trusted": true
   },
   "outputs": [
    {
     "name": "stdout",
     "output_type": "stream",
     "text": [
      "normalize_np(ndarray(1000, 20000)) -> total time: 0.189661978s\n",
      "normalize_np_(ndarray(1000, 20000)) -> total time: 0.139641280s\n"
     ]
    }
   ],
   "source": [
    "x = np.random.rand(1000, 20000)\n",
    "\n",
    "# This creates a copy\n",
    "y = normalize_np(x)\n",
    "assert not np.allclose(x, y)\n",
    "\n",
    "# Inplace operations modify the original array! But they are faster and use less memory.\n",
    "z = normalize_np_(x)\n",
    "assert np.array_equal(x, z)"
   ]
  }
 ],
 "metadata": {
  "colab": {
   "include_colab_link": true,
   "name": "RN-2024-Lab01",
   "provenance": []
  },
  "kaggle": {
   "accelerator": "none",
   "dataSources": [],
   "dockerImageVersionId": 30775,
   "isGpuEnabled": false,
   "isInternetEnabled": true,
   "language": "python",
   "sourceType": "notebook"
  },
  "kernelspec": {
   "display_name": "Python 3",
   "language": "python",
   "name": "python3"
  },
  "language_info": {
   "codemirror_mode": {
    "name": "ipython",
    "version": 3
   },
   "file_extension": ".py",
   "mimetype": "text/x-python",
   "name": "python",
   "nbconvert_exporter": "python",
   "pygments_lexer": "ipython3",
   "version": "3.12.6"
  }
 },
 "nbformat": 4,
 "nbformat_minor": 0
}
